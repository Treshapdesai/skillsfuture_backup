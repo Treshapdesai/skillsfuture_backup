{
 "cells": [
  {
   "cell_type": "code",
   "execution_count": 1,
   "metadata": {},
   "outputs": [
    {
     "data": {
      "text/plain": [
       "'C:\\\\Users\\\\Tresha'"
      ]
     },
     "execution_count": 1,
     "metadata": {},
     "output_type": "execute_result"
    }
   ],
   "source": [
    "pwd"
   ]
  },
  {
   "cell_type": "code",
   "execution_count": 2,
   "metadata": {},
   "outputs": [],
   "source": [
    "import sqlite3\n",
    "db = sqlite3.connect('users.db')\n",
    "try:\n",
    "    db.execute('create table users(name text,height float, weight float,bmi float)')\n",
    "except:\n",
    "    pass\n"
   ]
  },
  {
   "cell_type": "code",
   "execution_count": 3,
   "metadata": {},
   "outputs": [
    {
     "name": "stdout",
     "output_type": "stream",
     "text": [
      "Name?:Tresha\n",
      "Weight?:47\n",
      "Height?:157\n"
     ]
    }
   ],
   "source": [
    "name = input('Name?:') \n",
    "weight = float(input('Weight(kg)?:'))  \n",
    "height = float(input('Height(m)?:'))\n"
   ]
  },
  {
   "cell_type": "code",
   "execution_count": 14,
   "metadata": {},
   "outputs": [],
   "source": [
    "class Register:\n",
    "\n",
    "    def __init__(self,name,height,weight):\n",
    "      self.name = name\n",
    "      self.height = height\n",
    "      self.weight = weight\n",
    "      self.BMI = (self.weight)/(self.height)**2\n",
    "\n",
    "    def keyDB(self):\n",
    "      db.execute('INSERT INTO users(name,height,weight,BMI) values(?,?,?,?)',(self.name, self.height, self.weight, self.BMI))\n",
    "        \n",
    "    \n",
    "    def showDB(self):\n",
    "      rows = db.execute(\"SELECT * FROM users\").fetchall()\n",
    "      print(rows)"
   ]
  },
  {
   "cell_type": "code",
   "execution_count": 15,
   "metadata": {},
   "outputs": [],
   "source": [
    "student1 = Register(name, height, weight)"
   ]
  },
  {
   "cell_type": "code",
   "execution_count": 17,
   "metadata": {},
   "outputs": [],
   "source": [
    "student1.keyDB()"
   ]
  },
  {
   "cell_type": "code",
   "execution_count": 18,
   "metadata": {},
   "outputs": [
    {
     "name": "stdout",
     "output_type": "stream",
     "text": [
      "[('Tresha', 157.0, 47.0, None), ('Tresha', 157.0, 47.0, 0.001906771065763317), ('Tresha', 157.0, 47.0, 0.001906771065763317)]\n"
     ]
    }
   ],
   "source": [
    "student1.showDB()"
   ]
  },
  {
   "cell_type": "code",
   "execution_count": 19,
   "metadata": {},
   "outputs": [
    {
     "name": "stdout",
     "output_type": "stream",
     "text": [
      "Name?:Sally\n",
      "Weight(kg)?:56\n",
      "Height(m)?:89\n",
      "[('Tresha', 157.0, 47.0, None), ('Tresha', 157.0, 47.0, 0.001906771065763317), ('Tresha', 157.0, 47.0, 0.001906771065763317), ('Sally', 89.0, 56.0, 0.007069814417371544)]\n",
      "thank you for your registration\n"
     ]
    }
   ],
   "source": [
    "try:\n",
    "    name = input('Name?:') \n",
    "    weight = float(input('Weight(kg)?:'))  \n",
    "    height = float(input('Height(m)?:'))\n",
    "\n",
    "except:\n",
    "    print(\"you key the wrong info\")\n",
    "else:\n",
    "    register=Register(name,height,weight)\n",
    "    register.keyDB()\n",
    "    register.showDB()\n",
    "finally:\n",
    "    print(\"thank you for your registration\")\n"
   ]
  },
  {
   "cell_type": "code",
   "execution_count": null,
   "metadata": {},
   "outputs": [],
   "source": []
  }
 ],
 "metadata": {
  "kernelspec": {
   "display_name": "Python 3",
   "language": "python",
   "name": "python3"
  },
  "language_info": {
   "codemirror_mode": {
    "name": "ipython",
    "version": 3
   },
   "file_extension": ".py",
   "mimetype": "text/x-python",
   "name": "python",
   "nbconvert_exporter": "python",
   "pygments_lexer": "ipython3",
   "version": "3.8.5"
  }
 },
 "nbformat": 4,
 "nbformat_minor": 4
}
